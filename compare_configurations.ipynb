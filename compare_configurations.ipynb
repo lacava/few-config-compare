{
 "cells": [
  {
   "cell_type": "code",
   "execution_count": 11,
   "metadata": {
    "collapsed": false
   },
   "outputs": [],
   "source": [
    "import numpy as np\n",
    "from few import FEW\n",
    "from sklearn.model_selection import cross_val_score, StratifiedKFold, KFold\n",
    "import time\n",
    "from tqdm import tqdm \n",
    "\n",
    "def compare_configs(estimators,X,y,classification=False):\n",
    "    \"\"\"routine that compares a list of estimators evaluated on a set of data\"\"\"\n",
    "    if classification:\n",
    "        cv = StratifiedKFold(n_splits=3,shuffle=True)\n",
    "    else:\n",
    "        cv = KFold(n_splits=5,shuffle=True)\n",
    "\n",
    "    trials = 10\n",
    "    scores = np.ndarray((len(estimators),trials))\n",
    "    times = np.zeros((len(estimators),trials))\n",
    "    \n",
    "    for e,est in tqdm(enumerate(estimators)):\n",
    "        for t in np.arange(trials):\n",
    "            t0 = time.time()\n",
    "            scores[e,t] = np.mean(cross_val_score(est,X,y,cv=cv,n_jobs=-1))\n",
    "            times[e,t] = time.time() - t0\n",
    "    \n",
    "    return scores, times\n"
   ]
  },
  {
   "cell_type": "code",
   "execution_count": 25,
   "metadata": {
    "collapsed": false
   },
   "outputs": [
    {
     "name": "stderr",
     "output_type": "stream",
     "text": [
      "\r",
      "0it [00:00, ?it/s]"
     ]
    },
    {
     "name": "stdout",
     "output_type": "stream",
     "text": [
      "--- lasso ---\n",
      "problem: enc\n"
     ]
    },
    {
     "name": "stderr",
     "output_type": "stream",
     "text": [
      "5it [00:43,  9.85s/it]/home/bill/anaconda3/lib/python3.5/site-packages/sklearn/linear_model/least_angle.py:334: ConvergenceWarning: Early stopping the lars path, as the residues are small and the current value of alpha is no longer well controlled. 14 iterations, alpha=9.994e-03, previous alpha=1.665e-06, with an active set of 7 regressors.\n",
      "  ConvergenceWarning)\n",
      "/home/bill/anaconda3/lib/python3.5/site-packages/sklearn/linear_model/least_angle.py:334: ConvergenceWarning: Early stopping the lars path, as the residues are small and the current value of alpha is no longer well controlled. 13 iterations, alpha=3.158e-02, previous alpha=7.301e-05, with an active set of 6 regressors.\n",
      "  ConvergenceWarning)\n",
      "6it [01:05, 13.56s/it]\n",
      "0it [00:00, ?it/s]"
     ]
    },
    {
     "name": "stdout",
     "output_type": "stream",
     "text": [
      "problem: housing\n"
     ]
    },
    {
     "name": "stderr",
     "output_type": "stream",
     "text": [
      "6it [01:14, 15.36s/it]\n",
      "0it [00:00, ?it/s]"
     ]
    },
    {
     "name": "stdout",
     "output_type": "stream",
     "text": [
      "--- decision tree ---\n",
      "problem: enc\n"
     ]
    },
    {
     "name": "stderr",
     "output_type": "stream",
     "text": [
      "6it [00:27,  5.23s/it]\n",
      "0it [00:00, ?it/s]"
     ]
    },
    {
     "name": "stdout",
     "output_type": "stream",
     "text": [
      "problem: housing\n"
     ]
    },
    {
     "name": "stderr",
     "output_type": "stream",
     "text": [
      "6it [00:33,  6.48s/it]\n"
     ]
    },
    {
     "data": {
      "image/png": "[encoded data removed]",
      "text/plain": [
       "<matplotlib.figure.Figure at 0x7fe9872a9048>"
      ]
     },
     "metadata": {},
     "output_type": "display_data"
    },
    {
     "data": {
      "image/png": "[encoded data removed]",
      "text/plain": [
       "<matplotlib.figure.Figure at 0x7fe985feda58>"
      ]
     },
     "metadata": {},
     "output_type": "display_data"
    }
   ],
   "source": [
    "# define FEW configurations to compare\n",
    "from sklearn.linear_model import LassoLarsCV, LogisticRegressionCV\n",
    "from sklearn.tree import DecisionTreeRegressor, DecisionTreeClassifier\n",
    "from sklearn.preprocessing import StandardScaler\n",
    "import matplotlib.pyplot as plt\n",
    "import pandas as pd\n",
    "from tqdm import tqdm\n",
    "%matplotlib inline\n",
    "\n",
    "# stall_count options\n",
    "ms = np.arange(1,52,step=10)\n",
    "estimators = {}\n",
    "estimators['lasso'] = []\n",
    "estimators['dt'] = []\n",
    "for m in ms:\n",
    "    estimators['lasso'].append(FEW(ml=LassoLarsCV(),generations=100,max_stall=m))\n",
    "    estimators['dt'].append(FEW(ml=DecisionTreeRegressor(),generations=100,max_stall=m))\n",
    "problems = ['concrete','enc','housing','uball5d','yacht']\n",
    "# problems = ['enc','housing']\n",
    "###################################################################################################### lasso\n",
    "print('--- lasso ---')\n",
    "h,ax = plt.subplots(len(problems),sharex=True)\n",
    "for i,p in enumerate(problems):\n",
    "    print('problem:',p)\n",
    "    input_data = pd.read_csv('data/d_' + p + '.txt', sep=None, engine='python')\n",
    "    X = StandardScaler().fit_transform(input_data.drop('label',axis=1).values)\n",
    "    y = input_data['label'].values\n",
    "    scores,times = compare_configs(estimators['lasso'],X,y)\n",
    "    # plot results\n",
    "    ax[i].boxplot(list(scores),positions=ms,widths=5)\n",
    "    ax[i].set_xticks(ms)\n",
    "    ax[i].set_title(p)\n",
    "################################################################################################## decision tree\n",
    "print('--- decision tree ---')\n",
    "h2,ax2 = plt.subplots(len(problems),sharex=True)\n",
    "for i,p in enumerate(problems):\n",
    "    print('problem:',p)\n",
    "    input_data = pd.read_csv('data/d_' + p + '.txt', sep=None, engine='python')\n",
    "    X = StandardScaler().fit_transform(input_data.drop('label',axis=1).values)\n",
    "    y = input_data['label'].values\n",
    "    scores,times = compare_configs(estimators['dt'],X,y)\n",
    "    # plot results\n",
    "    ax2[i].boxplot(list(scores),positions=ms,widths=5)\n",
    "    ax2[i].set_xticks(ms)\n",
    "    ax2[i].set_title(p)\n",
    "\n",
    "plt.show()"
   ]
  }
 ],
 "metadata": {
  "anaconda-cloud": {},
  "kernelspec": {
   "display_name": "Python [Root]",
   "language": "python",
   "name": "Python [Root]"
  },
  "language_info": {
   "codemirror_mode": {
    "name": "ipython",
    "version": 3
   },
   "file_extension": ".py",
   "mimetype": "text/x-python",
   "name": "python",
   "nbconvert_exporter": "python",
   "pygments_lexer": "ipython3",
   "version": "3.5.2"
  }
 },
 "nbformat": 4,
 "nbformat_minor": 0
}
