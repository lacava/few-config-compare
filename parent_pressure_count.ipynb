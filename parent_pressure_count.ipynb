{
 "cells": [
  {
   "cell_type": "code",
   "execution_count": 1,
   "metadata": {},
   "outputs": [],
   "source": [
    "import numpy as np\n",
    "from few import FEW\n",
    "from sklearn.model_selection import cross_val_score, StratifiedKFold, KFold\n",
    "import time\n",
    "from tqdm import tqdm \n",
    "\n",
    "def compare_configs(estimators,X,y,classification=False):\n",
    "    \"\"\"routine that compares a list of estimators evaluated on a set of data\"\"\"\n",
    "    if classification:\n",
    "        cv = StratifiedKFold(n_splits=3,shuffle=True)\n",
    "    else:\n",
    "        cv = KFold(n_splits=5,shuffle=True)\n",
    "\n",
    "    trials = 10\n",
    "    scores = np.ndarray((len(estimators),trials))\n",
    "    times = np.zeros((len(estimators),trials))\n",
    "    \n",
    "    for e,est in tqdm(enumerate(estimators)):\n",
    "        for t in np.arange(trials):\n",
    "            t0 = time.time()\n",
    "            scores[e,t] = np.mean(cross_val_score(est,X,y,cv=cv,n_jobs=-1))\n",
    "            times[e,t] = time.time() - t0\n",
    "    \n",
    "    return scores, times\n"
   ]
  },
  {
   "cell_type": "code",
   "execution_count": 2,
   "metadata": {},
   "outputs": [
    {
     "name": "stdout",
     "output_type": "stream",
     "text": [
      "--- lasso ---\n"
     ]
    },
    {
     "name": "stderr",
     "output_type": "stream",
     "text": [
      "\r",
      "0it [00:00, ?it/s]"
     ]
    },
    {
     "name": "stdout",
     "output_type": "stream",
     "text": [
      "problem: concrete\n"
     ]
    },
    {
     "name": "stderr",
     "output_type": "stream",
     "text": [
      "1it [00:24, 24.03s/it]\n",
      "0it [00:00, ?it/s]"
     ]
    },
    {
     "name": "stdout",
     "output_type": "stream",
     "text": [
      "problem: enc\n"
     ]
    },
    {
     "name": "stderr",
     "output_type": "stream",
     "text": [
      "/Users/rishabhgupta/anaconda3/lib/python3.6/site-packages/sklearn/linear_model/least_angle.py:309: ConvergenceWarning: Regressors in active set degenerate. Dropping a regressor, after 13 iterations, i.e. alpha=6.885e-06, with an active set of 7 regressors, and the smallest cholesky pivot element being 5.674e-08\n",
      "  ConvergenceWarning)\n",
      "1it [00:21, 21.48s/it]\n",
      "0it [00:00, ?it/s]"
     ]
    },
    {
     "name": "stdout",
     "output_type": "stream",
     "text": [
      "problem: housing\n"
     ]
    },
    {
     "name": "stderr",
     "output_type": "stream",
     "text": [
      "1it [00:21, 21.33s/it]\n",
      "0it [00:00, ?it/s]"
     ]
    },
    {
     "name": "stdout",
     "output_type": "stream",
     "text": [
      "problem: uball5d\n"
     ]
    },
    {
     "name": "stderr",
     "output_type": "stream",
     "text": [
      "1it [00:56, 56.94s/it]\n",
      "0it [00:00, ?it/s]"
     ]
    },
    {
     "name": "stdout",
     "output_type": "stream",
     "text": [
      "problem: yacht\n"
     ]
    },
    {
     "name": "stderr",
     "output_type": "stream",
     "text": [
      "/Users/rishabhgupta/anaconda3/lib/python3.6/site-packages/sklearn/linear_model/least_angle.py:334: ConvergenceWarning: Early stopping the lars path, as the residues are small and the current value of alpha is no longer well controlled. 12 iterations, alpha=5.596e-02, previous alpha=2.034e-03, with an active set of 5 regressors.\n",
      "  ConvergenceWarning)\n",
      "1it [00:33, 33.29s/it]\n"
     ]
    },
    {
     "name": "stdout",
     "output_type": "stream",
     "text": [
      "--- decision tree ---\n"
     ]
    },
    {
     "name": "stderr",
     "output_type": "stream",
     "text": [
      "\r",
      "0it [00:00, ?it/s]"
     ]
    },
    {
     "name": "stdout",
     "output_type": "stream",
     "text": [
      "problem: concrete\n"
     ]
    },
    {
     "name": "stderr",
     "output_type": "stream",
     "text": [
      "1it [00:18, 18.82s/it]\n",
      "0it [00:00, ?it/s]"
     ]
    },
    {
     "name": "stdout",
     "output_type": "stream",
     "text": [
      "problem: enc\n"
     ]
    },
    {
     "name": "stderr",
     "output_type": "stream",
     "text": [
      "1it [00:19, 19.63s/it]\n",
      "0it [00:00, ?it/s]"
     ]
    },
    {
     "name": "stdout",
     "output_type": "stream",
     "text": [
      "problem: housing\n"
     ]
    },
    {
     "name": "stderr",
     "output_type": "stream",
     "text": [
      "1it [00:15, 15.83s/it]\n",
      "0it [00:00, ?it/s]"
     ]
    },
    {
     "name": "stdout",
     "output_type": "stream",
     "text": [
      "problem: uball5d\n"
     ]
    },
    {
     "name": "stderr",
     "output_type": "stream",
     "text": [
      "1it [02:43, 163.45s/it]\n",
      "0it [00:00, ?it/s]"
     ]
    },
    {
     "name": "stdout",
     "output_type": "stream",
     "text": [
      "problem: yacht\n"
     ]
    },
    {
     "name": "stderr",
     "output_type": "stream",
     "text": [
      "1it [00:15, 15.26s/it]\n"
     ]
    },
    {
     "data": {
      "image/png": "[encoded data removed]",
      "text/plain": [
       "<matplotlib.figure.Figure at 0x10fa36908>"
      ]
     },
     "metadata": {},
     "output_type": "display_data"
    },
    {
     "data": {
      "image/png": "[encoded data removed]",
      "text/plain": [
       "<matplotlib.figure.Figure at 0x112ff4748>"
      ]
     },
     "metadata": {},
     "output_type": "display_data"
    }
   ],
   "source": [
    "# define FEW configurations to compare\n",
    "\n",
    "from sklearn.linear_model import LassoLarsCV, LogisticRegressionCV\n",
    "from sklearn.tree import DecisionTreeRegressor, DecisionTreeClassifier\n",
    "from sklearn.preprocessing import StandardScaler\n",
    "import matplotlib.pyplot as plt\n",
    "import pandas as pd\n",
    "from tqdm import tqdm\n",
    "%matplotlib inline\n",
    "\n",
    "# weight_parents=True added\n",
    "estimators = {}\n",
    "estimators['lasso'] = []\n",
    "estimators['dt'] = []\n",
    "estimators['lasso'].append(FEW(ml=LassoLarsCV(),generations=100, weight_parents=True))\n",
    "estimators['dt'].append(FEW(ml=DecisionTreeRegressor(),generations=100, weight_parents=True))\n",
    "problems = ['concrete','enc','housing','uball5d','yacht']\n",
    "# problems = ['enc','housing']\n",
    "###################################################################################################### lasso\n",
    "print('--- lasso ---')\n",
    "h,ax = plt.subplots(len(problems),sharex=True)\n",
    "for i,p in enumerate(problems):\n",
    "    print('problem:',p)\n",
    "    input_data = pd.read_csv('data/d_' + p + '.txt', sep=None, engine='python')\n",
    "    X = StandardScaler().fit_transform(input_data.drop('label',axis=1).values)\n",
    "    y = input_data['label'].values\n",
    "    scores,times = compare_configs(estimators['lasso'],X,y)\n",
    "    # plot results\n",
    "    ax[i].boxplot(list(scores))\n",
    "    ax[i].set_title(p)\n",
    "################################################################################################## decision tree\n",
    "print('--- decision tree ---')\n",
    "h2,ax2 = plt.subplots(len(problems),sharex=True)\n",
    "for i,p in enumerate(problems):\n",
    "    print('problem:',p)\n",
    "    input_data = pd.read_csv('data/d_' + p + '.txt', sep=None, engine='python')\n",
    "    X = StandardScaler().fit_transform(input_data.drop('label',axis=1).values)\n",
    "    y = input_data['label'].values\n",
    "    scores,times = compare_configs(estimators['dt'],X,y)\n",
    "    # plot results\n",
    "    ax2[i].boxplot(list(scores))\n",
    "    ax2[i].set_title(p)\n",
    "\n",
    "plt.show()"
   ]
  },
  {
   "cell_type": "code",
   "execution_count": null,
   "metadata": {
    "collapsed": true
   },
   "outputs": [],
   "source": []
  }
 ],
 "metadata": {
  "anaconda-cloud": {},
  "kernelspec": {
   "display_name": "Python 3",
   "language": "python",
   "name": "python3"
  },
  "language_info": {
   "codemirror_mode": {
    "name": "ipython",
    "version": 3
   },
   "file_extension": ".py",
   "mimetype": "text/x-python",
   "name": "python",
   "nbconvert_exporter": "python",
   "pygments_lexer": "ipython3",
   "version": "3.6.1"
  }
 },
 "nbformat": 4,
 "nbformat_minor": 1
}
